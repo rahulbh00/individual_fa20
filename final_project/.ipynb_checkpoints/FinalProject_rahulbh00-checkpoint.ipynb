{
 "cells": [
  {
   "cell_type": "markdown",
   "metadata": {},
   "source": [
    "# COGS 108 - Final Project "
   ]
  },
  {
   "cell_type": "markdown",
   "metadata": {},
   "source": [
    "# Overview"
   ]
  },
  {
   "cell_type": "markdown",
   "metadata": {},
   "source": [
    "Recreational parks serve as a facilities that provide the space for sports, leisure or cultural activities in a community. The point of this project is to figure out whether the location of these parks have anything to do with their quality. To be more specific, I will be paying close attention to the quality of parks in areas inhabited by communities of lower income versus quality of parks in areas inhabited by communities of higher income. After conducting an explorative analysis of this specific relation, it's clear that the quality of parks in areas inhabited by communities of lower income are much worse than the ones in areas inhabited by communities of higher income."
   ]
  },
  {
   "cell_type": "markdown",
   "metadata": {},
   "source": [
    "# Name & GitHub ID\n",
    "\n",
    "- Name: Rahul Bhattacharya\n",
    "- GitHub Username: rahulbh00"
   ]
  },
  {
   "cell_type": "markdown",
   "metadata": {},
   "source": [
    "# Research Question"
   ]
  },
  {
   "cell_type": "markdown",
   "metadata": {},
   "source": [
    "Does the quality of a recreational park depend on its location in cities where there is a stark difference in distribution of population based on wealth such as San Diego?"
   ]
  },
  {
   "cell_type": "markdown",
   "metadata": {},
   "source": [
    "## Background and Prior Work"
   ]
  },
  {
   "cell_type": "markdown",
   "metadata": {},
   "source": [
    "To start this project, the first thing to do is to research the overall income of different communities in the city of San Diego. This step will help us rank different communities on the basis of wealth. With the help of a cencus conducted through the United States Cencus Bureau by the American Community Survey (ACS), along with extrapolating U.S. Bureau of Labor Statistics data, Chris Kolmar and his team from Homesnacks ranked the wealthiest neighbourhoods in San Diego based on median household income level from highest to lowest in 2020(1). North City and Carmel Valley rank the top two richest neighbourhood with median household income greater than 146,000 dollars. Mountain View and Memorial rank the lowest with median household income less than 31,000 dollars. You can view the rest of the list using the first reference link below.\n",
    "\n",
    "The next part of the project requires research on locations of recreational parks in San Diego to figure out the general placement of parks in the communities we've decided to focus on using the categorization based on community wealth from step one(3). This allows us to make sure we don't include neighbourhoods from step one that don't have any recreational parks because they would be irrelevant to the study.\n",
    "\n",
    "The final step involves making sure these recreational parks have existing, legitimate reviews on Yelp which is what I will use to determine a recreational park's quality. This step takes little time because I have access to a dataset in this project that provides me with yelp reviews of these recreational parks. I simply did this as a part of my background research work to verify that I had legitimate data to work with beforehand(4).\n",
    "\n",
    "A similar study includes the \"determination of whether characteristics of community recreation center environments are associated with neighborhood income and children’s use of the centers\" (McKenzie, 2014) which concluded that \n",
    "\"centers in more affluent neighborhoods seemed to be better off with regard to facilities, amenities, and aesthetics/incivilities\" (McKenzie, 2014)(2); which is in alignment with my hypothesis(5).\n",
    "\n",
    "References (include links):\n",
    "- 1)https://www.homesnacks.com/richest-neighborhoods-in-san-diego/\n",
    "- 2)https://www.ncbi.nlm.nih.gov/pmc/articles/PMC4082954/\n",
    "- 3)https://www.sandiego.gov/park-and-recreation/centers/map\n",
    "- 4)https://www.yelp.com/search?cflt=recreation&find_loc=San+Diego%2C+CA\n",
    "- 5)FinalProject_rahulbh00.ipynb"
   ]
  },
  {
   "cell_type": "markdown",
   "metadata": {},
   "source": [
    "# Hypothesis\n"
   ]
  },
  {
   "cell_type": "markdown",
   "metadata": {},
   "source": [
    "My hypothesis is that there exists better quality recreational parks in areas populated by richer communities than areas populated by poorer communities where such parks are more likely to be vandalized with graffiti, consist of equipment abused by young adults and adults who misuse the park for unintended purposes, filled with homeless people looking for shelter and other similar reasons."
   ]
  },
  {
   "cell_type": "markdown",
   "metadata": {},
   "source": [
    "# Dataset(s)"
   ]
  },
  {
   "cell_type": "markdown",
   "metadata": {},
   "source": [
    "Ideally, apart from the dataset I'm using in this analysis which is listed below, my project would have benefitted from sorting the data using a second dataset which would include information of different San Diego neighbourhoods with recreational parks and their median household income. I could have made a custom dataset using the same information I found through my background work, but because I was not sure of the privacy and ethics terms of using the data, I decided not to create this dataset. Additionally, if the datasets being used included information of recreational parks at a national level, we might have been able to establish a more distintive correlation between quality and location of recreational parks. But, the datasets I'm using in my analysis have been limited to the city of San Diego.\n",
    "\n",
    "The following dataset was provided by the instructor for the final project. \n",
    "\n",
    "Dataset 1:\n",
    "- Dataset Name: Yelp\n",
    "- Link to the dataset: https://github.com/COGS108/individual_fa20/blob/master/data/yelp_SD_reviews.csv\n",
    "- Number of observations: 2333\n",
    "\n",
    "Yelp dataset contains 3 columns ('id', 'rating', 'text') and 2333 rows of data. The dataset contains information regarding the name of every park and recreational park in San Diego, their yelp rating and their yelp review consisting of a body of text."
   ]
  },
  {
   "cell_type": "markdown",
   "metadata": {},
   "source": [
    "# Setup"
   ]
  },
  {
   "cell_type": "code",
   "execution_count": 1,
   "metadata": {},
   "outputs": [],
   "source": [
    "#imports\n",
    "import numpy as np\n",
    "import pandas as pd\n",
    "import matplotlib.pyplot as plt\n",
    "import seaborn as sns"
   ]
  },
  {
   "cell_type": "code",
   "execution_count": 2,
   "metadata": {},
   "outputs": [],
   "source": [
    "#read data\n",
    "df_yelp = pd.read_csv('yelp_SD_reviews.csv')"
   ]
  },
  {
   "cell_type": "code",
   "execution_count": 3,
   "metadata": {},
   "outputs": [
    {
     "data": {
      "text/html": [
       "<div>\n",
       "<style scoped>\n",
       "    .dataframe tbody tr th:only-of-type {\n",
       "        vertical-align: middle;\n",
       "    }\n",
       "\n",
       "    .dataframe tbody tr th {\n",
       "        vertical-align: top;\n",
       "    }\n",
       "\n",
       "    .dataframe thead th {\n",
       "        text-align: right;\n",
       "    }\n",
       "</style>\n",
       "<table border=\"1\" class=\"dataframe\">\n",
       "  <thead>\n",
       "    <tr style=\"text-align: right;\">\n",
       "      <th></th>\n",
       "      <th>id</th>\n",
       "      <th>rating</th>\n",
       "      <th>text</th>\n",
       "    </tr>\n",
       "  </thead>\n",
       "  <tbody>\n",
       "    <tr>\n",
       "      <th>0</th>\n",
       "      <td>Balboa Park</td>\n",
       "      <td>5</td>\n",
       "      <td>Balboa Park is a must see when coming to San D...</td>\n",
       "    </tr>\n",
       "    <tr>\n",
       "      <th>1</th>\n",
       "      <td>Balboa Park</td>\n",
       "      <td>5</td>\n",
       "      <td>Beautiful grounds even to take a stroll during...</td>\n",
       "    </tr>\n",
       "    <tr>\n",
       "      <th>2</th>\n",
       "      <td>Balboa Park</td>\n",
       "      <td>5</td>\n",
       "      <td>Beautiful sightseeing in San Diego. Lots of wa...</td>\n",
       "    </tr>\n",
       "    <tr>\n",
       "      <th>3</th>\n",
       "      <td>Civita Park</td>\n",
       "      <td>5</td>\n",
       "      <td>Was invited to child's B-Day party pre Covid-1...</td>\n",
       "    </tr>\n",
       "    <tr>\n",
       "      <th>4</th>\n",
       "      <td>Civita Park</td>\n",
       "      <td>5</td>\n",
       "      <td>Pretty nice park, beautiful design.  Anyone is...</td>\n",
       "    </tr>\n",
       "  </tbody>\n",
       "</table>\n",
       "</div>"
      ],
      "text/plain": [
       "            id  rating                                               text\n",
       "0  Balboa Park       5  Balboa Park is a must see when coming to San D...\n",
       "1  Balboa Park       5  Beautiful grounds even to take a stroll during...\n",
       "2  Balboa Park       5  Beautiful sightseeing in San Diego. Lots of wa...\n",
       "3  Civita Park       5  Was invited to child's B-Day party pre Covid-1...\n",
       "4  Civita Park       5  Pretty nice park, beautiful design.  Anyone is..."
      ]
     },
     "execution_count": 3,
     "metadata": {},
     "output_type": "execute_result"
    }
   ],
   "source": [
    "df_yelp.head()"
   ]
  },
  {
   "cell_type": "markdown",
   "metadata": {},
   "source": [
    "# Data Cleaning"
   ]
  },
  {
   "cell_type": "markdown",
   "metadata": {},
   "source": [
    "Removing any rows with missing values"
   ]
  },
  {
   "cell_type": "code",
   "execution_count": 4,
   "metadata": {},
   "outputs": [
    {
     "data": {
      "text/html": [
       "<div>\n",
       "<style scoped>\n",
       "    .dataframe tbody tr th:only-of-type {\n",
       "        vertical-align: middle;\n",
       "    }\n",
       "\n",
       "    .dataframe tbody tr th {\n",
       "        vertical-align: top;\n",
       "    }\n",
       "\n",
       "    .dataframe thead th {\n",
       "        text-align: right;\n",
       "    }\n",
       "</style>\n",
       "<table border=\"1\" class=\"dataframe\">\n",
       "  <thead>\n",
       "    <tr style=\"text-align: right;\">\n",
       "      <th></th>\n",
       "      <th>id</th>\n",
       "      <th>rating</th>\n",
       "      <th>text</th>\n",
       "    </tr>\n",
       "  </thead>\n",
       "  <tbody>\n",
       "    <tr>\n",
       "      <th>0</th>\n",
       "      <td>Balboa Park</td>\n",
       "      <td>5</td>\n",
       "      <td>Balboa Park is a must see when coming to San D...</td>\n",
       "    </tr>\n",
       "    <tr>\n",
       "      <th>1</th>\n",
       "      <td>Balboa Park</td>\n",
       "      <td>5</td>\n",
       "      <td>Beautiful grounds even to take a stroll during...</td>\n",
       "    </tr>\n",
       "    <tr>\n",
       "      <th>2</th>\n",
       "      <td>Balboa Park</td>\n",
       "      <td>5</td>\n",
       "      <td>Beautiful sightseeing in San Diego. Lots of wa...</td>\n",
       "    </tr>\n",
       "    <tr>\n",
       "      <th>3</th>\n",
       "      <td>Civita Park</td>\n",
       "      <td>5</td>\n",
       "      <td>Was invited to child's B-Day party pre Covid-1...</td>\n",
       "    </tr>\n",
       "    <tr>\n",
       "      <th>4</th>\n",
       "      <td>Civita Park</td>\n",
       "      <td>5</td>\n",
       "      <td>Pretty nice park, beautiful design.  Anyone is...</td>\n",
       "    </tr>\n",
       "    <tr>\n",
       "      <th>...</th>\n",
       "      <td>...</td>\n",
       "      <td>...</td>\n",
       "      <td>...</td>\n",
       "    </tr>\n",
       "    <tr>\n",
       "      <th>2328</th>\n",
       "      <td>Petco Park</td>\n",
       "      <td>5</td>\n",
       "      <td>I have visited over 27 MLB Ballparks including...</td>\n",
       "    </tr>\n",
       "    <tr>\n",
       "      <th>2329</th>\n",
       "      <td>Ann D. L'Heureux Memorial Dog Park</td>\n",
       "      <td>4</td>\n",
       "      <td>No grass here but it's a great dog park. if yo...</td>\n",
       "    </tr>\n",
       "    <tr>\n",
       "      <th>2330</th>\n",
       "      <td>Ann D. L'Heureux Memorial Dog Park</td>\n",
       "      <td>3</td>\n",
       "      <td>I love taking our cholate lab here, however, t...</td>\n",
       "    </tr>\n",
       "    <tr>\n",
       "      <th>2331</th>\n",
       "      <td>Ann D. L'Heureux Memorial Dog Park</td>\n",
       "      <td>3</td>\n",
       "      <td>Pretty small dog park overall. The center of t...</td>\n",
       "    </tr>\n",
       "    <tr>\n",
       "      <th>2332</th>\n",
       "      <td>Fairbrook Farm</td>\n",
       "      <td>5</td>\n",
       "      <td>Super friendly staff! I always feel welcome an...</td>\n",
       "    </tr>\n",
       "  </tbody>\n",
       "</table>\n",
       "<p>2333 rows × 3 columns</p>\n",
       "</div>"
      ],
      "text/plain": [
       "                                      id  rating  \\\n",
       "0                            Balboa Park       5   \n",
       "1                            Balboa Park       5   \n",
       "2                            Balboa Park       5   \n",
       "3                            Civita Park       5   \n",
       "4                            Civita Park       5   \n",
       "...                                  ...     ...   \n",
       "2328                          Petco Park       5   \n",
       "2329  Ann D. L'Heureux Memorial Dog Park       4   \n",
       "2330  Ann D. L'Heureux Memorial Dog Park       3   \n",
       "2331  Ann D. L'Heureux Memorial Dog Park       3   \n",
       "2332                      Fairbrook Farm       5   \n",
       "\n",
       "                                                   text  \n",
       "0     Balboa Park is a must see when coming to San D...  \n",
       "1     Beautiful grounds even to take a stroll during...  \n",
       "2     Beautiful sightseeing in San Diego. Lots of wa...  \n",
       "3     Was invited to child's B-Day party pre Covid-1...  \n",
       "4     Pretty nice park, beautiful design.  Anyone is...  \n",
       "...                                                 ...  \n",
       "2328  I have visited over 27 MLB Ballparks including...  \n",
       "2329  No grass here but it's a great dog park. if yo...  \n",
       "2330  I love taking our cholate lab here, however, t...  \n",
       "2331  Pretty small dog park overall. The center of t...  \n",
       "2332  Super friendly staff! I always feel welcome an...  \n",
       "\n",
       "[2333 rows x 3 columns]"
      ]
     },
     "execution_count": 4,
     "metadata": {},
     "output_type": "execute_result"
    }
   ],
   "source": [
    "df_yelp.dropna()"
   ]
  },
  {
   "cell_type": "markdown",
   "metadata": {},
   "source": [
    "Removing unecessary columns"
   ]
  },
  {
   "cell_type": "code",
   "execution_count": 5,
   "metadata": {},
   "outputs": [
    {
     "data": {
      "text/html": [
       "<div>\n",
       "<style scoped>\n",
       "    .dataframe tbody tr th:only-of-type {\n",
       "        vertical-align: middle;\n",
       "    }\n",
       "\n",
       "    .dataframe tbody tr th {\n",
       "        vertical-align: top;\n",
       "    }\n",
       "\n",
       "    .dataframe thead th {\n",
       "        text-align: right;\n",
       "    }\n",
       "</style>\n",
       "<table border=\"1\" class=\"dataframe\">\n",
       "  <thead>\n",
       "    <tr style=\"text-align: right;\">\n",
       "      <th></th>\n",
       "      <th>id</th>\n",
       "      <th>rating</th>\n",
       "    </tr>\n",
       "  </thead>\n",
       "  <tbody>\n",
       "    <tr>\n",
       "      <th>0</th>\n",
       "      <td>Balboa Park</td>\n",
       "      <td>5</td>\n",
       "    </tr>\n",
       "    <tr>\n",
       "      <th>1</th>\n",
       "      <td>Balboa Park</td>\n",
       "      <td>5</td>\n",
       "    </tr>\n",
       "    <tr>\n",
       "      <th>2</th>\n",
       "      <td>Balboa Park</td>\n",
       "      <td>5</td>\n",
       "    </tr>\n",
       "    <tr>\n",
       "      <th>3</th>\n",
       "      <td>Civita Park</td>\n",
       "      <td>5</td>\n",
       "    </tr>\n",
       "    <tr>\n",
       "      <th>4</th>\n",
       "      <td>Civita Park</td>\n",
       "      <td>5</td>\n",
       "    </tr>\n",
       "  </tbody>\n",
       "</table>\n",
       "</div>"
      ],
      "text/plain": [
       "            id  rating\n",
       "0  Balboa Park       5\n",
       "1  Balboa Park       5\n",
       "2  Balboa Park       5\n",
       "3  Civita Park       5\n",
       "4  Civita Park       5"
      ]
     },
     "execution_count": 5,
     "metadata": {},
     "output_type": "execute_result"
    }
   ],
   "source": [
    "df_yelp.drop('text', inplace = True, axis = 1)\n",
    "df_yelp.head()"
   ]
  },
  {
   "cell_type": "markdown",
   "metadata": {},
   "source": [
    "Renaming columns appropriately"
   ]
  },
  {
   "cell_type": "code",
   "execution_count": 6,
   "metadata": {},
   "outputs": [
    {
     "data": {
      "text/html": [
       "<div>\n",
       "<style scoped>\n",
       "    .dataframe tbody tr th:only-of-type {\n",
       "        vertical-align: middle;\n",
       "    }\n",
       "\n",
       "    .dataframe tbody tr th {\n",
       "        vertical-align: top;\n",
       "    }\n",
       "\n",
       "    .dataframe thead th {\n",
       "        text-align: right;\n",
       "    }\n",
       "</style>\n",
       "<table border=\"1\" class=\"dataframe\">\n",
       "  <thead>\n",
       "    <tr style=\"text-align: right;\">\n",
       "      <th></th>\n",
       "      <th>Park</th>\n",
       "      <th>Rating</th>\n",
       "    </tr>\n",
       "  </thead>\n",
       "  <tbody>\n",
       "    <tr>\n",
       "      <th>0</th>\n",
       "      <td>Balboa Park</td>\n",
       "      <td>5</td>\n",
       "    </tr>\n",
       "    <tr>\n",
       "      <th>1</th>\n",
       "      <td>Balboa Park</td>\n",
       "      <td>5</td>\n",
       "    </tr>\n",
       "    <tr>\n",
       "      <th>2</th>\n",
       "      <td>Balboa Park</td>\n",
       "      <td>5</td>\n",
       "    </tr>\n",
       "    <tr>\n",
       "      <th>3</th>\n",
       "      <td>Civita Park</td>\n",
       "      <td>5</td>\n",
       "    </tr>\n",
       "    <tr>\n",
       "      <th>4</th>\n",
       "      <td>Civita Park</td>\n",
       "      <td>5</td>\n",
       "    </tr>\n",
       "  </tbody>\n",
       "</table>\n",
       "</div>"
      ],
      "text/plain": [
       "          Park  Rating\n",
       "0  Balboa Park       5\n",
       "1  Balboa Park       5\n",
       "2  Balboa Park       5\n",
       "3  Civita Park       5\n",
       "4  Civita Park       5"
      ]
     },
     "execution_count": 6,
     "metadata": {},
     "output_type": "execute_result"
    }
   ],
   "source": [
    "df_yelp = df_yelp.rename(columns = {'id':'Park', 'rating':'Rating'})\n",
    "df_yelp.head()"
   ]
  },
  {
   "cell_type": "markdown",
   "metadata": {},
   "source": [
    "Removing all rows which do not contain information about RECREATIONAL parks"
   ]
  },
  {
   "cell_type": "code",
   "execution_count": 7,
   "metadata": {},
   "outputs": [
    {
     "data": {
      "text/html": [
       "<div>\n",
       "<style scoped>\n",
       "    .dataframe tbody tr th:only-of-type {\n",
       "        vertical-align: middle;\n",
       "    }\n",
       "\n",
       "    .dataframe tbody tr th {\n",
       "        vertical-align: top;\n",
       "    }\n",
       "\n",
       "    .dataframe thead th {\n",
       "        text-align: right;\n",
       "    }\n",
       "</style>\n",
       "<table border=\"1\" class=\"dataframe\">\n",
       "  <thead>\n",
       "    <tr style=\"text-align: right;\">\n",
       "      <th></th>\n",
       "      <th>Park</th>\n",
       "      <th>Rating</th>\n",
       "    </tr>\n",
       "  </thead>\n",
       "  <tbody>\n",
       "    <tr>\n",
       "      <th>63</th>\n",
       "      <td>Hilltop Park and Recreation Center</td>\n",
       "      <td>5</td>\n",
       "    </tr>\n",
       "    <tr>\n",
       "      <th>64</th>\n",
       "      <td>Hilltop Park and Recreation Center</td>\n",
       "      <td>4</td>\n",
       "    </tr>\n",
       "    <tr>\n",
       "      <th>65</th>\n",
       "      <td>Hilltop Park and Recreation Center</td>\n",
       "      <td>4</td>\n",
       "    </tr>\n",
       "    <tr>\n",
       "      <th>120</th>\n",
       "      <td>Scripps Ranch Recreation Center</td>\n",
       "      <td>5</td>\n",
       "    </tr>\n",
       "    <tr>\n",
       "      <th>121</th>\n",
       "      <td>Scripps Ranch Recreation Center</td>\n",
       "      <td>5</td>\n",
       "    </tr>\n",
       "    <tr>\n",
       "      <th>...</th>\n",
       "      <td>...</td>\n",
       "      <td>...</td>\n",
       "    </tr>\n",
       "    <tr>\n",
       "      <th>1816</th>\n",
       "      <td>Ocean Air Recreation Center</td>\n",
       "      <td>5</td>\n",
       "    </tr>\n",
       "    <tr>\n",
       "      <th>1817</th>\n",
       "      <td>Ocean Air Recreation Center</td>\n",
       "      <td>1</td>\n",
       "    </tr>\n",
       "    <tr>\n",
       "      <th>2191</th>\n",
       "      <td>Carmel Valley Recreation Center</td>\n",
       "      <td>4</td>\n",
       "    </tr>\n",
       "    <tr>\n",
       "      <th>2192</th>\n",
       "      <td>Carmel Valley Recreation Center</td>\n",
       "      <td>3</td>\n",
       "    </tr>\n",
       "    <tr>\n",
       "      <th>2193</th>\n",
       "      <td>Carmel Valley Recreation Center</td>\n",
       "      <td>5</td>\n",
       "    </tr>\n",
       "  </tbody>\n",
       "</table>\n",
       "<p>62 rows × 2 columns</p>\n",
       "</div>"
      ],
      "text/plain": [
       "                                    Park  Rating\n",
       "63    Hilltop Park and Recreation Center       5\n",
       "64    Hilltop Park and Recreation Center       4\n",
       "65    Hilltop Park and Recreation Center       4\n",
       "120      Scripps Ranch Recreation Center       5\n",
       "121      Scripps Ranch Recreation Center       5\n",
       "...                                  ...     ...\n",
       "1816         Ocean Air Recreation Center       5\n",
       "1817         Ocean Air Recreation Center       1\n",
       "2191     Carmel Valley Recreation Center       4\n",
       "2192     Carmel Valley Recreation Center       3\n",
       "2193     Carmel Valley Recreation Center       5\n",
       "\n",
       "[62 rows x 2 columns]"
      ]
     },
     "execution_count": 7,
     "metadata": {},
     "output_type": "execute_result"
    }
   ],
   "source": [
    "df_yelp = df_yelp[df_yelp.Park.str.contains('Recreation')]\n",
    "df_yelp"
   ]
  },
  {
   "cell_type": "markdown",
   "metadata": {},
   "source": [
    "Checking for unexpected values"
   ]
  },
  {
   "cell_type": "code",
   "execution_count": 8,
   "metadata": {},
   "outputs": [
    {
     "name": "stdout",
     "output_type": "stream",
     "text": [
      "21\n",
      "True\n"
     ]
    }
   ],
   "source": [
    "#count number of unique park names\n",
    "print(len(df_yelp['Park'].unique()))\n",
    "#Appropriate number, passed.\n",
    "\n",
    "#check yelp ratings are between 1-5\n",
    "print(all(i >= 0 and i <= 5 for i in df_yelp['Rating'].unique()))\n",
    "#True = Values are valid, passed."
   ]
  },
  {
   "cell_type": "markdown",
   "metadata": {},
   "source": [
    "Grouping the information for ease of plotting and analysis"
   ]
  },
  {
   "cell_type": "code",
   "execution_count": 9,
   "metadata": {},
   "outputs": [
    {
     "data": {
      "text/html": [
       "<div>\n",
       "<style scoped>\n",
       "    .dataframe tbody tr th:only-of-type {\n",
       "        vertical-align: middle;\n",
       "    }\n",
       "\n",
       "    .dataframe tbody tr th {\n",
       "        vertical-align: top;\n",
       "    }\n",
       "\n",
       "    .dataframe thead th {\n",
       "        text-align: right;\n",
       "    }\n",
       "</style>\n",
       "<table border=\"1\" class=\"dataframe\">\n",
       "  <thead>\n",
       "    <tr style=\"text-align: right;\">\n",
       "      <th></th>\n",
       "      <th>Park</th>\n",
       "      <th>Rating</th>\n",
       "    </tr>\n",
       "  </thead>\n",
       "  <tbody>\n",
       "    <tr>\n",
       "      <th>0</th>\n",
       "      <td>Adams Avenue Recreation Center</td>\n",
       "      <td>10</td>\n",
       "    </tr>\n",
       "    <tr>\n",
       "      <th>1</th>\n",
       "      <td>Admiral Robinson Recreation Centre</td>\n",
       "      <td>15</td>\n",
       "    </tr>\n",
       "    <tr>\n",
       "      <th>2</th>\n",
       "      <td>Allied Gardens Recreational Center</td>\n",
       "      <td>13</td>\n",
       "    </tr>\n",
       "    <tr>\n",
       "      <th>3</th>\n",
       "      <td>Azalea Park and Recreation Center</td>\n",
       "      <td>8</td>\n",
       "    </tr>\n",
       "    <tr>\n",
       "      <th>4</th>\n",
       "      <td>Aztec Recreation Center</td>\n",
       "      <td>12</td>\n",
       "    </tr>\n",
       "    <tr>\n",
       "      <th>5</th>\n",
       "      <td>Carmel Valley Recreation Center</td>\n",
       "      <td>12</td>\n",
       "    </tr>\n",
       "    <tr>\n",
       "      <th>6</th>\n",
       "      <td>Elfin Forest Recreational Reserve</td>\n",
       "      <td>12</td>\n",
       "    </tr>\n",
       "    <tr>\n",
       "      <th>7</th>\n",
       "      <td>Encanto Recreation Center</td>\n",
       "      <td>11</td>\n",
       "    </tr>\n",
       "    <tr>\n",
       "      <th>8</th>\n",
       "      <td>Hilltop Park and Recreation Center</td>\n",
       "      <td>13</td>\n",
       "    </tr>\n",
       "    <tr>\n",
       "      <th>9</th>\n",
       "      <td>Kearny Mesa Park &amp; Recreation Center</td>\n",
       "      <td>12</td>\n",
       "    </tr>\n",
       "    <tr>\n",
       "      <th>10</th>\n",
       "      <td>Nobel Athletic Fields &amp; Recreation Center</td>\n",
       "      <td>14</td>\n",
       "    </tr>\n",
       "    <tr>\n",
       "      <th>11</th>\n",
       "      <td>Ocean Air Recreation Center</td>\n",
       "      <td>11</td>\n",
       "    </tr>\n",
       "    <tr>\n",
       "      <th>12</th>\n",
       "      <td>Pacific Beach Recreation Center</td>\n",
       "      <td>9</td>\n",
       "    </tr>\n",
       "    <tr>\n",
       "      <th>13</th>\n",
       "      <td>Robert Egger, Sr. - South Bay Recreation Center</td>\n",
       "      <td>10</td>\n",
       "    </tr>\n",
       "    <tr>\n",
       "      <th>14</th>\n",
       "      <td>San Carlos Recreation Center</td>\n",
       "      <td>12</td>\n",
       "    </tr>\n",
       "    <tr>\n",
       "      <th>15</th>\n",
       "      <td>Santee Lakes Recreation Preserve</td>\n",
       "      <td>12</td>\n",
       "    </tr>\n",
       "    <tr>\n",
       "      <th>16</th>\n",
       "      <td>Scripps Ranch Recreation Center</td>\n",
       "      <td>15</td>\n",
       "    </tr>\n",
       "    <tr>\n",
       "      <th>17</th>\n",
       "      <td>Serra Mesa Recreation Center</td>\n",
       "      <td>11</td>\n",
       "    </tr>\n",
       "    <tr>\n",
       "      <th>18</th>\n",
       "      <td>South Clairemont Recreation Center &amp; Community...</td>\n",
       "      <td>10</td>\n",
       "    </tr>\n",
       "    <tr>\n",
       "      <th>19</th>\n",
       "      <td>Standley Recreation Center</td>\n",
       "      <td>13</td>\n",
       "    </tr>\n",
       "    <tr>\n",
       "      <th>20</th>\n",
       "      <td>Tierrasanta Community Park and Recreation Center</td>\n",
       "      <td>12</td>\n",
       "    </tr>\n",
       "  </tbody>\n",
       "</table>\n",
       "</div>"
      ],
      "text/plain": [
       "                                                 Park  Rating\n",
       "0                      Adams Avenue Recreation Center      10\n",
       "1                  Admiral Robinson Recreation Centre      15\n",
       "2                  Allied Gardens Recreational Center      13\n",
       "3                   Azalea Park and Recreation Center       8\n",
       "4                             Aztec Recreation Center      12\n",
       "5                     Carmel Valley Recreation Center      12\n",
       "6                   Elfin Forest Recreational Reserve      12\n",
       "7                           Encanto Recreation Center      11\n",
       "8                  Hilltop Park and Recreation Center      13\n",
       "9                Kearny Mesa Park & Recreation Center      12\n",
       "10          Nobel Athletic Fields & Recreation Center      14\n",
       "11                        Ocean Air Recreation Center      11\n",
       "12                    Pacific Beach Recreation Center       9\n",
       "13    Robert Egger, Sr. - South Bay Recreation Center      10\n",
       "14                       San Carlos Recreation Center      12\n",
       "15                   Santee Lakes Recreation Preserve      12\n",
       "16                    Scripps Ranch Recreation Center      15\n",
       "17                       Serra Mesa Recreation Center      11\n",
       "18  South Clairemont Recreation Center & Community...      10\n",
       "19                         Standley Recreation Center      13\n",
       "20   Tierrasanta Community Park and Recreation Center      12"
      ]
     },
     "execution_count": 9,
     "metadata": {},
     "output_type": "execute_result"
    }
   ],
   "source": [
    "df_yelp = df_yelp.groupby(['Park'], as_index = False)['Rating'].sum()\n",
    "df_yelp"
   ]
  },
  {
   "cell_type": "markdown",
   "metadata": {},
   "source": [
    "# Data Analysis & Results"
   ]
  },
  {
   "cell_type": "markdown",
   "metadata": {},
   "source": [
    "A general understanding of the data by looking at its average values and general trend."
   ]
  },
  {
   "cell_type": "code",
   "execution_count": 11,
   "metadata": {},
   "outputs": [
    {
     "data": {
      "text/html": [
       "<div>\n",
       "<style scoped>\n",
       "    .dataframe tbody tr th:only-of-type {\n",
       "        vertical-align: middle;\n",
       "    }\n",
       "\n",
       "    .dataframe tbody tr th {\n",
       "        vertical-align: top;\n",
       "    }\n",
       "\n",
       "    .dataframe thead th {\n",
       "        text-align: right;\n",
       "    }\n",
       "</style>\n",
       "<table border=\"1\" class=\"dataframe\">\n",
       "  <thead>\n",
       "    <tr style=\"text-align: right;\">\n",
       "      <th></th>\n",
       "      <th>Rating</th>\n",
       "    </tr>\n",
       "  </thead>\n",
       "  <tbody>\n",
       "    <tr>\n",
       "      <th>count</th>\n",
       "      <td>21.000000</td>\n",
       "    </tr>\n",
       "    <tr>\n",
       "      <th>mean</th>\n",
       "      <td>11.761905</td>\n",
       "    </tr>\n",
       "    <tr>\n",
       "      <th>std</th>\n",
       "      <td>1.786190</td>\n",
       "    </tr>\n",
       "    <tr>\n",
       "      <th>min</th>\n",
       "      <td>8.000000</td>\n",
       "    </tr>\n",
       "    <tr>\n",
       "      <th>25%</th>\n",
       "      <td>11.000000</td>\n",
       "    </tr>\n",
       "    <tr>\n",
       "      <th>50%</th>\n",
       "      <td>12.000000</td>\n",
       "    </tr>\n",
       "    <tr>\n",
       "      <th>75%</th>\n",
       "      <td>13.000000</td>\n",
       "    </tr>\n",
       "    <tr>\n",
       "      <th>max</th>\n",
       "      <td>15.000000</td>\n",
       "    </tr>\n",
       "  </tbody>\n",
       "</table>\n",
       "</div>"
      ],
      "text/plain": [
       "          Rating\n",
       "count  21.000000\n",
       "mean   11.761905\n",
       "std     1.786190\n",
       "min     8.000000\n",
       "25%    11.000000\n",
       "50%    12.000000\n",
       "75%    13.000000\n",
       "max    15.000000"
      ]
     },
     "execution_count": 11,
     "metadata": {},
     "output_type": "execute_result"
    }
   ],
   "source": [
    "df_yelp.describe()"
   ]
  },
  {
   "cell_type": "markdown",
   "metadata": {},
   "source": [
    "Creating a plot of Parks vs. Ratings (Core of Analysis)"
   ]
  },
  {
   "cell_type": "code",
   "execution_count": 22,
   "metadata": {},
   "outputs": [
    {
     "data": {
      "image/png": "[encoded data removed]",
      "text/plain": [
       "<Figure size 432x288 with 1 Axes>"
      ]
     },
     "metadata": {
      "needs_background": "light"
     },
     "output_type": "display_data"
    }
   ],
   "source": [
    "plot = sns.scatterplot(x = 'Rating', y = 'Park', data = df_yelp)"
   ]
  },
  {
   "cell_type": "markdown",
   "metadata": {},
   "source": [
    "# Ethics & Privacy"
   ]
  },
  {
   "cell_type": "markdown",
   "metadata": {},
   "source": [
    "The dataset used in my analysis was provided for use in the final project by the instructor, so I had permission to use it. As stated in the Dataset(s) section, the only place of concern where privacy could be potentially violated would be if I made a custom dataset using the data found during my background research of the ranking of neighbourhoods in San Diego based on median household income. This data was obviously formulated using private information involving income of individuals who inhabit these neighbourhoods, which makes it extremely important to ensure ethics aren't violated by revealing any personal information of the residents in the communities we're focusing on.\n",
    "\n",
    "With regards to the yelp reviews dataset, the text of the review was removed because it was irrelevant. But, this also makes sure no sensitive information that might be contained in the text review such as the names of any individuals mentioned in someone's test review was leaked. Furthermore, the ratings I used were all anonymous, and simply consisted of ratings.\n",
    "\n",
    "There is scope for bias in yelp reviews. These reviews are not representative of the entire population that makes use of the recreational park. Some people might have opinions on these parks, but haven't provided a yelp review. Thus, whether a person writes a review can bias the dataset. Some reviews may also not be honest opinions of individuals, and therefore the legitimacy/authenticity of each review may also bias the dataset.\n",
    "\n",
    "In terms of accuracy of the data, I believe the dataset is accurate since it displays an analyis that is in alignment with my hypothesis, which agrees with previous studies that have been conducted on similar research questions. A confounding variable, however, might be the amount of funding each Recreational park receives which is distributed differently across different parks and could potentially be responsible for quality differences."
   ]
  },
  {
   "cell_type": "markdown",
   "metadata": {},
   "source": [
    "# Conclusion & Discussion"
   ]
  },
  {
   "cell_type": "markdown",
   "metadata": {},
   "source": [
    "Based on the analysis, its clear that my hypothesis was correct. The higher rated Recreational Centers such as Scripps Ranch Recreation Center, Noble Athletic Field and Recreation Center, and Standley Recreation Center are all located in affluent neighbourhoods such as Scipps Ranch (6th richest) and La Jolla (4th richest) whereas the lower rated Recreational Centers like Azalea Park and Recreation Center are located in poorer neighbourhoods such as City Heights East (78th rank in median household income list out of 86 neighbourhoods of San Diego).\n",
    "This is in alignment with previous studies conducted, and therefore, I can conclude that the quality of recreational parks in neighbourhoods with a higher median household income are of much better quality that those located in neighbourhoods with lower median household income."
   ]
  }
 ],
 "metadata": {
  "kernelspec": {
   "display_name": "Python 3",
   "language": "python",
   "name": "python3"
  },
  "language_info": {
   "codemirror_mode": {
    "name": "ipython",
    "version": 3
   },
   "file_extension": ".py",
   "mimetype": "text/x-python",
   "name": "python",
   "nbconvert_exporter": "python",
   "pygments_lexer": "ipython3",
   "version": "3.8.3"
  }
 },
 "nbformat": 4,
 "nbformat_minor": 2
}
