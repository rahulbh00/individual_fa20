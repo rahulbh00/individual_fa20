{
 "cells": [
  {
   "cell_type": "markdown",
   "metadata": {},
   "source": [
    "# COGS 108 - Project Proposal"
   ]
  },
  {
   "cell_type": "markdown",
   "metadata": {},
   "source": [
    "# Names & GitHub ID\n",
    "\n",
    "- Name: Rahul Bhattacharya\n",
    "- GitHub Username: rahulbh00"
   ]
  },
  {
   "cell_type": "markdown",
   "metadata": {},
   "source": [
    "# Research Question"
   ]
  },
  {
   "cell_type": "markdown",
   "metadata": {},
   "source": [
    "Does the maintainence of a recreational park depend on its location?"
   ]
  },
  {
   "cell_type": "markdown",
   "metadata": {},
   "source": [
    "## Background and Prior Work"
   ]
  },
  {
   "cell_type": "markdown",
   "metadata": {},
   "source": [
    "No investigations have been carried out to determine the relationship between park maintainence and their location. However, similar studies such as the contribution of recreational parks to the physical activity of a community has been completed in the past which concluded that public parks are a critical source of physical activity in minority communities. They also concluded that the number and location of parks were insufficient in 2007 to serve local populations well. They drew data from 8 public parks and used direct observation to collect data. Further information can be found using the first link below.\n",
    "A more similar study has been carried out by Shaleen Miller who investigated park access and equity in a segregated, southern U.S. City (Tallahasee, FL). The study used quanitative and qualitative methods to assess the sites chosen to investigate. They study concluded that despite segregation, parks have mostly been distributed equitably with lower income neighbourhoods having slightly higher access to parks than other areas. Click the second link for more information\n",
    "\n",
    "References (include links):\n",
    "- 1) https://www.ncbi.nlm.nih.gov/pmc/articles/PMC1805017/\n",
    "- 2)https://www.liebertpub.com/doi/10.1089/env.2018.0026"
   ]
  },
  {
   "cell_type": "markdown",
   "metadata": {},
   "source": [
    "# Hypothesis\n"
   ]
  },
  {
   "cell_type": "markdown",
   "metadata": {},
   "source": [
    "My hypothesis is that recreational parks in areas populated by middle class, upper-middle class and upper class communities are better maintained than in lower class communities because parks in poverty stricken areas are vandalized with graffiti, equipment is abused by young adults and adults who misuse the park for unintended purposes, filled with homeless people looking for shelter and other similar reasons."
   ]
  },
  {
   "cell_type": "markdown",
   "metadata": {},
   "source": [
    "# Data"
   ]
  },
  {
   "cell_type": "markdown",
   "metadata": {},
   "source": [
    "An ideal dataset would include variables describing how popular a recreational park is, who uses these parks, the purpose for which these parks are used and the rating of the park by the people in that community.\n",
    "An ideal number of observations would be a high enough number via which an evident pattern can be recognized, and a low enough number that would ensure there is no excess data that confuses the reader.\n",
    "This data would ideally be collected from the reliable sources on the internet. If unavailable, I would have to contact relevant reliable sources such as government agencies responsible for supervising and maintaining these parks.\n",
    "These data would be stored/organized by me in the form of a table in an excel sheet."
   ]
  },
  {
   "cell_type": "markdown",
   "metadata": {},
   "source": [
    "# Ethics & Privacy"
   ]
  },
  {
   "cell_type": "markdown",
   "metadata": {},
   "source": [
    "I will ensure that all the sources I use to collect data from allow the use of said data. The privacy concerns regarding this investigation mostly revolve around protecting the names of the individuals who provide personal, subjective data to the questions asked. All variables from the 'Data' section in this proposal are based on the answers provided by individuals. It's incredibly important to ensure that their personal information is protected, and they understand the investigation to which they are contributing data to. They must also be aware of what their data is being used for. With regards to potential biases, I don't think my data would be biased as long as the communities participating in the investigation are diverse with race and gender being an irrelevant factor. I will ensure that once I formulate my dataset, I will revise the information I submit to ensure no personal data has been leaked, as well as delete any personal data I might still have from the investigation so as to ensure I do not violate any ethical codes moving forward."
   ]
  }
 ],
 "metadata": {
  "kernelspec": {
   "display_name": "Python 3",
   "language": "python",
   "name": "python3"
  },
  "language_info": {
   "codemirror_mode": {
    "name": "ipython",
    "version": 3
   },
   "file_extension": ".py",
   "mimetype": "text/x-python",
   "name": "python",
   "nbconvert_exporter": "python",
   "pygments_lexer": "ipython3",
   "version": "3.8.3"
  }
 },
 "nbformat": 4,
 "nbformat_minor": 2
}
